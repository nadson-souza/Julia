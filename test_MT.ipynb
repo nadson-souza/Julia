{
 "cells": [
  {
   "cell_type": "code",
   "execution_count": 1,
   "metadata": {
    "collapsed": false
   },
   "outputs": [],
   "source": [
    "include(\"/Users/haocheng/Github/JWAS.jl/src/JWAS.jl\")\n",
    "using DataFrames,JWAS,JWAS.Datasets"
   ]
  },
  {
   "cell_type": "code",
   "execution_count": 2,
   "metadata": {
    "collapsed": false
   },
   "outputs": [
    {
     "name": "stdout",
     "output_type": "stream",
     "text": [
      "999 markers on 351 individuals were added.\n"
     ]
    }
   ],
   "source": [
    "phenofile = \"/Users/haocheng/Downloads/vED_test.txt\"\n",
    "genofile  = \"/Users/haocheng/Downloads/test\"\n",
    "\n",
    "data      = readtable(phenofile,separator = ',',header=true)\n",
    "\n",
    "R = [7.062221e+10 -4.806167e+04 -5.706463e+05\n",
    "            -4.806167e+04 8.383308e-01 4.356155e+00\n",
    "            -5.706463e+05 4.356155e+00 4.160800e+01]\n",
    "G = [7.062221e+10 -4.806167e+04 -5.706463e+05\n",
    "            -4.806167e+04 8.383308e-01 4.356155e+00\n",
    "             -5.706463e+05 4.356155e+00 4.160800e+01]\n",
    "model_equations = \"volume = intercept;\n",
    "                   SqrtEHT = intercept;\n",
    "                   DTA = intercept\";\n",
    "model1 = build_model(model_equations,R);\n",
    "add_markers(model1,genofile,G,separator=' ',header=true);"
   ]
  },
  {
   "cell_type": "code",
   "execution_count": 8,
   "metadata": {
    "collapsed": false
   },
   "outputs": [
    {
     "name": "stdout",
     "output_type": "stream",
     "text": [
      "MCMC Information:\n",
      "\n",
      "methods                                      BayesC\n",
      "chain_length                                    100\n",
      "starting_value                                false\n",
      "printout_frequency                              101\n",
      "output_samples_frequency                          1\n",
      "constraint                                    false\n",
      "missing_phenotypes                            false\n",
      "update_priors_frequency                           0\n",
      "\n",
      "Information for hyper-parameter: π (Π)\n",
      "π                              Dict([1.0,0.0,1.0]=>0.0,[0.0,1.0,1.0]=>0.0,[0.0,0.0,1.0]=>0.0,[1.0,1.0,0.0]=>0.0,[1.0,0.0,0.0]=>0.0,[0.0,1.0,0.0]=>0.0,[0.0,0.0,0.0]=>0.5,[1.0,1.0,1.0]=>0.5)\n",
      "estimatePi                                    false\n",
      "\n",
      "Degree of freedom for hyper-parameters:\n",
      "residual variances:                           4.000\n",
      "iid random effect variances:                  4.000\n",
      "polygenic effect variances:                   4.000\n",
      "marker effect variances:                      4.000\n",
      "\n",
      "\n",
      "\n",
      "running MCMC for BayesC...100%|█████████████████████████| Time: 0:00:03\n"
     ]
    }
   ],
   "source": [
    "Pi=Dict(\n",
    "[1.0; 1.0; 1.0]=>0.5,[1.0;1.0;0.0]=>0.0,[1.0;0.0;1.0]=>0.0,\n",
    "[0.0;1.0;1.0]=>0.0,[0.0;0.0;1.0]=>0.0,[1.0;0.0;0.0]=>0.0, \n",
    "[0.0;1.0;0.0]=>0.0,[0.0;0.0;0.0]=>0.5)\n",
    "\n",
    "out = runMCMC(model1,data,Pi=Pi,chain_length=100,methods=\"BayesC\",estimatePi=false,output_samples_frequency=1);"
   ]
  },
  {
   "cell_type": "code",
   "execution_count": 9,
   "metadata": {
    "collapsed": false
   },
   "outputs": [
    {
     "data": {
      "text/plain": [
       "Dict{Any,Any} with 6 entries:\n",
       "  \"Model frequency\"         => Array{Float64,1}[[0.0,0.0,0.0,0.0,0.0,0.0,0.0,0.…\n",
       "  \"Posterior mean of resid… => [3.1176e11 -1.38791e6 -7.87069e6; -1.38791e6 11.…\n",
       "  \"Posterior mean of marke… => Any[…\n",
       "  \"Posterior mean of marke… => [9.6337e8 311.615 -2663.96; 311.615 0.00542925 0…\n",
       "  \"MCMC samples for residu… => [1.17983e12 1.166e12 … 1.28868e11 1.26399e11; -7…\n",
       "  \"Posterior mean of locat… => Any[\"1:intercept : intercept\" 2.16881e5; \"2:inte…"
      ]
     },
     "execution_count": 9,
     "metadata": {},
     "output_type": "execute_result"
    }
   ],
   "source": [
    "out"
   ]
  },
  {
   "cell_type": "code",
   "execution_count": null,
   "metadata": {
    "collapsed": true
   },
   "outputs": [],
   "source": []
  },
  {
   "cell_type": "code",
   "execution_count": null,
   "metadata": {
    "collapsed": true
   },
   "outputs": [],
   "source": []
  },
  {
   "cell_type": "code",
   "execution_count": null,
   "metadata": {
    "collapsed": true
   },
   "outputs": [],
   "source": []
  }
 ],
 "metadata": {
  "anaconda-cloud": {},
  "kernelspec": {
   "display_name": "Julia 0.5.0",
   "language": "julia",
   "name": "julia-0.5"
  },
  "language_info": {
   "file_extension": ".jl",
   "mimetype": "application/julia",
   "name": "julia",
   "version": "0.5.0"
  }
 },
 "nbformat": 4,
 "nbformat_minor": 1
}
