{
 "cells": [
  {
   "cell_type": "code",
   "execution_count": 1,
   "metadata": {
    "collapsed": false
   },
   "outputs": [
    {
     "data": {
      "text/plain": [
       "JWAS"
      ]
     },
     "execution_count": 1,
     "metadata": {},
     "output_type": "execute_result"
    }
   ],
   "source": [
    "include(\"../src/JWAS.jl\")"
   ]
  },
  {
   "cell_type": "code",
   "execution_count": 2,
   "metadata": {
    "collapsed": true
   },
   "outputs": [],
   "source": [
    "using DataFrames,JWAS,JWAS.Datasets"
   ]
  },
  {
   "cell_type": "code",
   "execution_count": 3,
   "metadata": {
    "collapsed": false
   },
   "outputs": [
    {
     "name": "stdout",
     "output_type": "stream",
     "text": [
      "coding pedigree... 100%|████████████████████████████████| Time: 0:00:00\n",
      "Finished!\n",
      "5 markers on 4 individuals were added.\n"
     ]
    }
   ],
   "source": [
    "phenofile = Datasets.dataset(\"testMME\",\"simple.txt\")\n",
    "genofile  = Datasets.dataset(\"testMME\",\"genotype.txt\")\n",
    "pedfile   = Datasets.dataset(\"testMME\",\"pedigree.txt\");\n",
    "phenotype = readtable(phenofile,separator = ',',header=true);\n",
    "pedigree = get_pedigree(pedfile);\n",
    "residual_variance = 1.0\n",
    "genetic_variance  = 2.5\n",
    "genetic_variance_by_marker    = 1.5\n",
    "genetic_variance_by_polygenic = 1.0;\n",
    "model = build_model(\"y = intercept + Age + Animal\",residual_variance)\n",
    "set_covariate(model,\"Age\")\n",
    "set_random(model,\"Animal\",pedigree,genetic_variance_by_polygenic)\n",
    "add_markers(model,genofile,genetic_variance_by_marker,separator=',');"
   ]
  },
  {
   "cell_type": "code",
   "execution_count": 4,
   "metadata": {
    "collapsed": false
   },
   "outputs": [
    {
     "name": "stdout",
     "output_type": "stream",
     "text": [
      "MCMC Information:\n",
      "\n",
      "methods                                       GBLUP\n",
      "chain_length                                   5000\n",
      "starting_value                                false\n",
      "printout_frequency                             1000\n",
      "output_samples_frequency                       1000\n",
      "constraint                                    false\n",
      "missing_phenotypes                            false\n",
      "update_priors_frequency                           0\n",
      "\n",
      "Degree of freedom for hyper-parameters:\n",
      "residual variances:                           4.000\n",
      "iid random effect variances:                  4.000\n",
      "polygenic effect variances:                   4.000\n",
      "marker effect variances:                      4.000\n",
      "\n",
      "\n",
      "\n",
      "running MCMC for GBLUP...  0%|                          |  ETA: 0:48:25\n",
      "Posterior means at iteration: 1000\n",
      "Residual variance: 0.920069\n",
      "Polygenic effects covariance matrix \n",
      "[0.6]\n",
      "Genetic variance (G matrix): 1.158759\n",
      "Genetic variance (GenSel): 0.764595\n",
      "running MCMC for GBLUP... 20%|█████                     |  ETA: 0:00:04\n",
      "Posterior means at iteration: 2000\n",
      "Residual variance: 0.902938\n",
      "Polygenic effects covariance matrix \n",
      "[0.59]\n",
      "Genetic variance (G matrix): 1.183281\n",
      "Genetic variance (GenSel): 0.798315\n",
      "running MCMC for GBLUP... 47%|████████████              |  ETA: 0:00:01\n",
      "Posterior means at iteration: 3000\n",
      "Residual variance: 0.953413\n",
      "Polygenic effects covariance matrix \n",
      "[0.595]\n",
      "Genetic variance (G matrix): 1.279315\n",
      "Genetic variance (GenSel): 0.83563\n",
      "running MCMC for GBLUP... 75%|████████████████████      |  ETA: 0:00:00\n",
      "Posterior means at iteration: 4000\n",
      "Residual variance: 0.948291\n",
      "Polygenic effects covariance matrix \n",
      "[0.598]\n",
      "Genetic variance (G matrix): 1.264769\n",
      "Genetic variance (GenSel): 0.883962\n",
      "\n",
      "Posterior means at iteration: 5000\n",
      "Residual variance: 0.939795\n",
      "Polygenic effects covariance matrix \n",
      "[0.59]\n",
      "Genetic variance (G matrix): 1.264662\n",
      "Genetic variance (GenSel): 0.891254\n",
      "running MCMC for GBLUP...100%|██████████████████████████| Time: 0:00:01\n"
     ]
    }
   ],
   "source": [
    "output=runMCMC(model,phenotype,chain_length=5000,methods=\"GBLUP\",output_samples_frequency=1000,printout_frequency=1000);"
   ]
  },
  {
   "cell_type": "code",
   "execution_count": 5,
   "metadata": {
    "collapsed": false
   },
   "outputs": [
    {
     "data": {
      "text/plain": [
       "Base.KeyIterator for a Dict{Any,Any} with 6 entries. Keys:\n",
       "  \"Posterior mean of estimated breeding values\"\n",
       "  \"MCMC samples for residual variance\"\n",
       "  \"MCMC samples for polygenic effects var-cov parameters\"\n",
       "  \"Posterior mean of location parameters\"\n",
       "  \"Posterior mean of genetic variance (G matrix)\"\n",
       "  \"Posterior mean of genetic variance (GenSel)\""
      ]
     },
     "execution_count": 5,
     "metadata": {},
     "output_type": "execute_result"
    }
   ],
   "source": [
    "keys(output)"
   ]
  }
 ],
 "metadata": {
  "anaconda-cloud": {},
  "kernelspec": {
   "display_name": "Julia 0.5.0",
   "language": "julia",
   "name": "julia-0.5"
  },
  "language_info": {
   "file_extension": ".jl",
   "mimetype": "application/julia",
   "name": "julia",
   "version": "0.5.0"
  }
 },
 "nbformat": 4,
 "nbformat_minor": 1
}
